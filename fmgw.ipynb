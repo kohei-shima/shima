{
  "nbformat": 4,
  "nbformat_minor": 0,
  "metadata": {
    "colab": {
      "name": "fmgw.ipynb",
      "version": "0.3.2",
      "provenance": [],
      "collapsed_sections": [],
      "include_colab_link": true
    },
    "kernelspec": {
      "name": "python3",
      "display_name": "Python 3"
    },
    "accelerator": "GPU"
  },
  "cells": [
    {
      "cell_type": "markdown",
      "metadata": {
        "id": "view-in-github",
        "colab_type": "text"
      },
      "source": [
        "[View in Colaboratory](https://colab.research.google.com/github/kohei-shima/shima/blob/master/fmgw.ipynb)"
      ]
    },
    {
      "metadata": {
        "id": "WudOnOvNbUs8",
        "colab_type": "code",
        "colab": {
          "base_uri": "https://localhost:8080/",
          "height": 34
        },
        "outputId": "93e9c0ce-3650-4fe4-a63d-707ba2fe9b4c"
      },
      "cell_type": "code",
      "source": [
        "import keras\n",
        "from keras.models import Sequential\n",
        "from keras.layers import Dense, Dropout, Activation, Flatten\n",
        "from keras.layers import Conv2D, MaxPooling2D\n",
        "import os\n",
        "import glob\n",
        "import numpy as np"
      ],
      "execution_count": 0,
      "outputs": [
        {
          "output_type": "stream",
          "text": [
            "Using TensorFlow backend.\n"
          ],
          "name": "stderr"
        }
      ]
    },
    {
      "metadata": {
        "id": "rVJf9I-vdKhe",
        "colab_type": "code",
        "colab": {}
      },
      "cell_type": "code",
      "source": [
        "batch_size = 32\n",
        "num_classes = 5\n",
        "epochs = 100\n",
        "save_dir = os.path.join(os.getcwd(), 'saved_models')\n",
        "model_name = 'fmgw.h5'"
      ],
      "execution_count": 0,
      "outputs": []
    },
    {
      "metadata": {
        "id": "pp1qtOpfuvaI",
        "colab_type": "code",
        "colab": {
          "base_uri": "https://localhost:8080/",
          "height": 175
        },
        "outputId": "dc0598f7-ef5c-47b5-8312-905221e41e9b"
      },
      "cell_type": "code",
      "source": [
        "x = []\n",
        "y = []\n",
        "\n",
        "list = [\"dakon\",\"hagare\",\"kinzoku\",\"senni\",\"senniPI\",\"suji\",\"tanjunhappou\",\"ware\",\"yakekasu\"]\n",
        "\n",
        "for j in range(len(list)):\n",
        "    \n",
        "    figure = glob.glob(\"../roi/\"+list[j]+\"/*\")\n",
        "    print(len(figure))\n",
        "    \n",
        "    for i range(len(figure)):\n",
        "        fname = figure[i]\n",
        "        img = img_to_array(load_img(fname,target_size=(50,50)))\n",
        "                       \n",
        "        x.append(img)\n",
        "        y.append(j)\n",
        "                       \n",
        "x = np.asarray(x)\n",
        "y = np.asarray(y)"
      ],
      "execution_count": 0,
      "outputs": [
        {
          "output_type": "stream",
          "text": [
            "0\n",
            "0\n",
            "0\n",
            "0\n",
            "0\n",
            "0\n",
            "0\n",
            "0\n",
            "0\n"
          ],
          "name": "stdout"
        }
      ]
    },
    {
      "metadata": {
        "id": "jB0rBpP_dUMi",
        "colab_type": "code",
        "colab": {
          "base_uri": "https://localhost:8080/",
          "height": 105
        },
        "outputId": "6a70d410-7ac2-47c1-a6bf-a719c56e8527"
      },
      "cell_type": "code",
      "source": [
        "(x_train,x_test),(y_train,y_test) = train_test_split(x,y,test_size=0.33,random_state=111)\n",
        "print('x_train shape:', x_train.shape)\n",
        "print(x_train.shape[0], 'train samples')\n",
        "print(x_test.shape[0], 'test samples')\n"
      ],
      "execution_count": 0,
      "outputs": [
        {
          "output_type": "stream",
          "text": [
            "Downloading data from https://www.cs.toronto.edu/~kriz/cifar-10-python.tar.gz\n",
            "170500096/170498071 [==============================] - 12s 0us/step\n",
            "x_train shape: (50000, 32, 32, 3)\n",
            "50000 train samples\n",
            "10000 test samples\n"
          ],
          "name": "stdout"
        }
      ]
    },
    {
      "metadata": {
        "id": "vZyo8GzCdYZ3",
        "colab_type": "code",
        "colab": {}
      },
      "cell_type": "code",
      "source": [
        "# Convert class vectors to binary class matrices.\n",
        "y_train = keras.utils.to_categorical(y_train, num_classes)\n",
        "y_test = keras.utils.to_categorical(y_test, num_classes)"
      ],
      "execution_count": 0,
      "outputs": []
    },
    {
      "metadata": {
        "id": "PRv7Lpuydfxu",
        "colab_type": "code",
        "colab": {}
      },
      "cell_type": "code",
      "source": [
        "model = Sequential()\n",
        "#model.add(Conv2D(32, (3, 3), padding='same',\n",
        "#                 input_shape=x_train.shape[1:]))\n",
        "model.add(Conv2D(32, (3, 3), padding='same',\n",
        "                 input_shape=x_train.shape[1:]))\n",
        "model.add(Activation('relu'))\n",
        "#model.add(Conv2D(32, (3, 3)))\n",
        "model.add(Conv2D(64, (3, 3)))  ##kshima\n",
        "model.add(Activation('relu'))\n",
        "\n",
        "#model.add(Conv2D(32, (3, 3))) ##kshima\n",
        "#model.add(Activation('relu')) ##kshima\n",
        "\n",
        "model.add(MaxPooling2D(pool_size=(2, 2)))\n",
        "model.add(Dropout(0.25))\n",
        "\n",
        "model.add(Conv2D(128, (3, 3), padding='same'))\n",
        "model.add(Activation('relu'))\n",
        "model.add(Conv2D(256, (3, 3)))\n",
        "model.add(Activation('relu'))\n",
        "model.add(MaxPooling2D(pool_size=(2, 2)))\n",
        "model.add(Dropout(0.25))\n",
        "\n",
        "model.add(Conv2D(512, (3, 3), padding='same'))\n",
        "model.add(Activation('relu'))\n",
        "model.add(Conv2D(1024, (3, 3)))\n",
        "model.add(Activation('relu'))\n",
        "model.add(MaxPooling2D(pool_size=(2, 2)))\n",
        "model.add(Dropout(0.25))\n",
        "\n",
        "model.add(Flatten())\n",
        "model.add(Dense(512))\n",
        "model.add(Activation('relu'))\n",
        "model.add(Dropout(0.5))\n",
        "model.add(Dense(num_classes))\n",
        "model.add(Activation('softmax'))"
      ],
      "execution_count": 0,
      "outputs": []
    },
    {
      "metadata": {
        "id": "Je8KDqPhdje6",
        "colab_type": "code",
        "colab": {}
      },
      "cell_type": "code",
      "source": [
        "# initiate RMSprop optimizer\n",
        "#opt = keras.optimizers.rmsprop(lr=0.0001, decay=1e-6)\n",
        "\n",
        "#opt = keras.optimizers.rmsprop(lr=0.001, decay=0.0) ##kshima\n",
        "#opt = keras.optimizers.Adam(lr=0.001, beta_1=0.9,beta_2=0.999,decay=0.0) ##kshima\n",
        "opt = keras.optimizers.Adamax(lr=0.002, beta_1=0.9,beta_2=0.999,decay=0.0) ##kshima\n",
        "#opt = keras.optimizers.Nadam(lr=0.002, beta_1=0.9,beta_2=0.999,schedule_decay=0.004) ##kshima\n",
        "#opt = keras.optimizers.SGD(lr=0.01, momentum=0.0, decay=0.0, nesterov=False) ##kshima\n",
        "#opt = keras.optimizers.Adagrad(lr=0.01,decay=0.0) ##kshima\n",
        "#opt = keras.optimizers.Adadelta(lr=1.0, rho=0.95, epsilon=None, decay=0.0) ##kshima"
      ],
      "execution_count": 0,
      "outputs": []
    },
    {
      "metadata": {
        "id": "WxVF1c_sdmaN",
        "colab_type": "code",
        "colab": {}
      },
      "cell_type": "code",
      "source": [
        "# Let's train the model using RMSprop\n",
        "model.compile(loss='categorical_crossentropy',\n",
        "              optimizer=opt,\n",
        "              metrics=['accuracy'])\n",
        "\n",
        "x_train = x_train.astype('float32')\n",
        "x_test = x_test.astype('float32')\n",
        "x_train /= 255\n",
        "x_test /= 255"
      ],
      "execution_count": 0,
      "outputs": []
    },
    {
      "metadata": {
        "id": "DhHzn3RHj3Lk",
        "colab_type": "code",
        "colab": {
          "base_uri": "https://localhost:8080/",
          "height": 406
        },
        "outputId": "55a88538-4b01-46dd-da86-53d50db14c12"
      },
      "cell_type": "code",
      "source": [
        "if not data_augmentation:\n",
        "    print('Not using data augmentation.')\n",
        "    model.fit(x_train, y_train,\n",
        "              batch_size=batch_size,\n",
        "              epochs=epochs,\n",
        "              validation_data=(x_test, y_test),\n",
        "              shuffle=True)\n",
        "else:\n",
        "    print('Using real-time data augmentation.')\n",
        "    # This will do preprocessing and realtime data augmentation:\n",
        "    datagen = ImageDataGenerator(\n",
        "        featurewise_center=False,  # set input mean to 0 over the dataset\n",
        "        samplewise_center=False,  # set each sample mean to 0\n",
        "        featurewise_std_normalization=False,  # divide inputs by std of the dataset\n",
        "        samplewise_std_normalization=False,  # divide each input by its std\n",
        "        zca_whitening=False,  # apply ZCA whitening\n",
        "        zca_epsilon=1e-06,  # epsilon for ZCA whitening\n",
        "        rotation_range=0,  # randomly rotate images in the range (degrees, 0 to 180)\n",
        "        width_shift_range=0.1,  # randomly shift images horizontally (fraction of total width)\n",
        "        height_shift_range=0.1,  # randomly shift images vertically (fraction of total height)\n",
        "        shear_range=0.,  # set range for random shear\n",
        "        zoom_range=0.,  # set range for random zoom\n",
        "        channel_shift_range=0.,  # set range for random channel shifts\n",
        "        fill_mode='nearest',  # set mode for filling points outside the input boundaries\n",
        "        cval=0.,  # value used for fill_mode = \"constant\"\n",
        "        horizontal_flip=True,  # randomly flip images\n",
        "        vertical_flip=False,  # randomly flip images\n",
        "        rescale=None,  # set rescaling factor (applied before any other transformation)\n",
        "        preprocessing_function=None,  # set function that will be applied on each input\n",
        "        data_format=None,  # image data format, either \"channels_first\" or \"channels_last\" \n",
        "        validation_split=0.0)  # fraction of images reserved for validation (strictly between 0 and 1)  \n",
        "        \n",
        "  # Compute quantities required for feature-wise normalization\n",
        "    # (std, mean, and principal components if ZCA whitening is applied).\n",
        "    datagen.fit(x_train)\n",
        "        \n",
        "  # Fit the model on the batches generated by datagen.flow().\n",
        "    history = model.fit_generator(datagen.flow(x_train, y_train,\n",
        "                                     batch_size=batch_size),\n",
        "                        epochs=epochs,\n",
        "                        validation_data=(x_test, y_test),\n",
        "                        workers=4)\n",
        "\n",
        "    \n"
      ],
      "execution_count": 0,
      "outputs": [
        {
          "output_type": "stream",
          "text": [
            "Using real-time data augmentation.\n",
            "Epoch 1/10\n",
            " 950/1563 [=================>............] - ETA: 33s - loss: 1.8252 - acc: 0.3129"
          ],
          "name": "stdout"
        },
        {
          "output_type": "stream",
          "text": [
            "1563/1563 [==============================] - 86s 55ms/step - loss: 1.6776 - acc: 0.3747 - val_loss: 1.2690 - val_acc: 0.5441\n",
            "Epoch 2/10\n"
          ],
          "name": "stdout"
        },
        {
          "output_type": "stream",
          "text": [
            "1563/1563 [==============================] - 83s 53ms/step - loss: 1.1947 - acc: 0.5751 - val_loss: 1.0089 - val_acc: 0.6430\n",
            "Epoch 3/10\n",
            "  80/1563 [>.............................] - ETA: 1:15 - loss: 1.0491 - acc: 0.6418"
          ],
          "name": "stdout"
        },
        {
          "output_type": "stream",
          "text": [
            "1563/1563 [==============================] - 83s 53ms/step - loss: 0.9662 - acc: 0.6633 - val_loss: 0.8951 - val_acc: 0.6928\n"
          ],
          "name": "stdout"
        },
        {
          "output_type": "stream",
          "text": [
            "Epoch 4/10\n",
            "1366/1563 [=========================>....] - ETA: 10s - loss: 0.8233 - acc: 0.7152"
          ],
          "name": "stdout"
        },
        {
          "output_type": "stream",
          "text": [
            "1563/1563 [==============================] - 83s 53ms/step - loss: 0.8205 - acc: 0.7163 - val_loss: 0.7469 - val_acc: 0.7481\n",
            "Epoch 5/10\n",
            " 476/1563 [========>.....................] - ETA: 55s - loss: 0.7355 - acc: 0.7465"
          ],
          "name": "stdout"
        },
        {
          "output_type": "stream",
          "text": [
            "1563/1563 [==============================] - 83s 53ms/step - loss: 0.7245 - acc: 0.7514 - val_loss: 0.5976 - val_acc: 0.7947\n",
            "Epoch 6/10\n",
            " 156/1563 [=>............................] - ETA: 1:11 - loss: 0.6975 - acc: 0.7568"
          ],
          "name": "stdout"
        },
        {
          "output_type": "stream",
          "text": [
            "1563/1563 [==============================] - 83s 53ms/step - loss: 0.6631 - acc: 0.7714 - val_loss: 0.6101 - val_acc: 0.7967\n",
            "Epoch 7/10\n",
            "  39/1563 [..............................] - ETA: 1:17 - loss: 0.6215 - acc: 0.7869"
          ],
          "name": "stdout"
        },
        {
          "output_type": "stream",
          "text": [
            "1563/1563 [==============================] - 82s 53ms/step - loss: 0.6103 - acc: 0.7933 - val_loss: 0.5491 - val_acc: 0.8183\n",
            "Epoch 8/10\n",
            "   3/1563 [..............................] - ETA: 1:20 - loss: 0.4793 - acc: 0.8021"
          ],
          "name": "stdout"
        },
        {
          "output_type": "stream",
          "text": [
            "1561/1563 [============================>.] - ETA: 0s - loss: 0.5693 - acc: 0.8073"
          ],
          "name": "stdout"
        },
        {
          "output_type": "stream",
          "text": [
            "1563/1563 [==============================] - 82s 53ms/step - loss: 0.5692 - acc: 0.8074 - val_loss: 0.5602 - val_acc: 0.8148\n",
            "Epoch 9/10\n",
            " 563/1563 [=========>....................] - ETA: 50s - loss: 0.5271 - acc: 0.8214"
          ],
          "name": "stdout"
        },
        {
          "output_type": "stream",
          "text": [
            "1563/1563 [==============================] - 83s 53ms/step - loss: 0.5373 - acc: 0.8185 - val_loss: 0.5240 - val_acc: 0.8263\n",
            "Epoch 10/10\n",
            " 198/1563 [==>...........................] - ETA: 1:08 - loss: 0.5078 - acc: 0.8273"
          ],
          "name": "stdout"
        },
        {
          "output_type": "stream",
          "text": [
            "1563/1563 [==============================] - 83s 53ms/step - loss: 0.5060 - acc: 0.8280 - val_loss: 0.5030 - val_acc: 0.8336\n"
          ],
          "name": "stdout"
        }
      ]
    },
    {
      "metadata": {
        "id": "s4Y2UY1ueLnF",
        "colab_type": "code",
        "colab": {
          "base_uri": "https://localhost:8080/",
          "height": 34
        },
        "outputId": "65a21c06-9e0c-4294-b57f-602eff7a81d8"
      },
      "cell_type": "code",
      "source": [
        "# Save model and weights\n",
        "if not os.path.isdir(save_dir):\n",
        "    os.makedirs(save_dir)\n",
        "model_path = os.path.join(save_dir, model_name)\n",
        "model.save(model_path)\n",
        "print('Saved trained model at %s ' % model_path)\n"
      ],
      "execution_count": 0,
      "outputs": [
        {
          "output_type": "stream",
          "text": [
            "Saved trained model at /content/saved_models/keras_cifar10_trained_model.h5 \n"
          ],
          "name": "stdout"
        }
      ]
    },
    {
      "metadata": {
        "id": "EsoQWY3913dQ",
        "colab_type": "code",
        "colab": {
          "base_uri": "https://localhost:8080/",
          "height": 706
        },
        "outputId": "21746e07-c6ed-466b-ba52-88f38c9c24d6"
      },
      "cell_type": "code",
      "source": [
        "    import matplotlib.pyplot as plt\n",
        "\n",
        "    x = range(epochs)\n",
        "    plt.plot(x, history.history['acc'], label=\"acc\")\n",
        "    plt.title(\"accuracy\")\n",
        "    plt.legend(loc='center left', bbox_to_anchor=(1, 0.5))\n",
        "    plt.show()\n",
        "\n",
        "    plt.plot(x, history.history['loss'], label=\"loss\")\n",
        "    plt.title(\"loss\")\n",
        "    plt.legend(loc='center left', bbox_to_anchor=(1, 0.5))\n",
        "    plt.show()"
      ],
      "execution_count": 0,
      "outputs": [
        {
          "output_type": "display_data",
          "data": {
            "image/png": "[encoded data removed]",
            "text/plain": [
              "<matplotlib.figure.Figure at 0x7fca29c199b0>"
            ]
          },
          "metadata": {
            "tags": []
          }
        },
        {
          "output_type": "display_data",
          "data": {
            "image/png": "[encoded data removed]",
            "text/plain": [
              "<matplotlib.figure.Figure at 0x7fca29ad7f28>"
            ]
          },
          "metadata": {
            "tags": []
          }
        }
      ]
    },
    {
      "metadata": {
        "id": "z1vpj7w5eEu8",
        "colab_type": "code",
        "colab": {
          "base_uri": "https://localhost:8080/",
          "height": 70
        },
        "outputId": "87d97ebe-7d82-476e-98ee-545e546c9bc4"
      },
      "cell_type": "code",
      "source": [
        "# Score trained model.\n",
        "scores = model.evaluate(x_test, y_test, verbose=1)\n",
        "print('Test loss:', scores[0])\n",
        "print('Test accuracy:', scores[1])\n"
      ],
      "execution_count": 0,
      "outputs": [
        {
          "output_type": "stream",
          "text": [
            "10000/10000 [==============================] - 4s 364us/step\n",
            "Test loss: 0.5029792829990387\n",
            "Test accuracy: 0.8336\n"
          ],
          "name": "stdout"
        }
      ]
    },
    {
      "metadata": {
        "id": "akpx5cX7ROkG",
        "colab_type": "code",
        "colab": {}
      },
      "cell_type": "code",
      "source": [
        ""
      ],
      "execution_count": 0,
      "outputs": []
    }
  ]
}